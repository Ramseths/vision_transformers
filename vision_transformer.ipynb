{
 "cells": [
  {
   "cell_type": "code",
   "execution_count": 2,
   "metadata": {},
   "outputs": [],
   "source": [
    "import os\n",
    "import matplotlib.pyplot as plt\n",
    "import numpy as np\n",
    "import PIL\n",
    "import torch\n",
    "import torch.nn.functional as F\n",
    "import torchvision\n",
    "import torchvision.transforms as T\n",
    "\n",
    "from timm import create_model"
   ]
  },
  {
   "cell_type": "code",
   "execution_count": 3,
   "metadata": {},
   "outputs": [
    {
     "name": "stdout",
     "output_type": "stream",
     "text": [
      "device =  cuda\n"
     ]
    }
   ],
   "source": [
    "# Cargar Modelo\n",
    "model_name = \"vit_base_patch16_224\"\n",
    "device = 'cuda' if torch.cuda.is_available() else 'cpu'\n",
    "print(\"device = \", device)\n",
    "model = create_model(model_name, pretrained=True).to(device)"
   ]
  },
  {
   "cell_type": "code",
   "execution_count": 4,
   "metadata": {},
   "outputs": [],
   "source": [
    "# Transformaciones para test\n",
    "IMG_SIZE = (224, 224)\n",
    "NORMALIZE_MEAN = (0.5, 0.5, 0.5)\n",
    "NORMALIZE_STD = (0.5, 0.5, 0.5)\n",
    "transforms = [\n",
    "              T.Resize(IMG_SIZE),\n",
    "              T.ToTensor(),\n",
    "              T.Normalize(NORMALIZE_MEAN, NORMALIZE_STD),\n",
    "              ]\n",
    "\n",
    "transforms = T.Compose(transforms)"
   ]
  },
  {
   "cell_type": "code",
   "execution_count": 9,
   "metadata": {},
   "outputs": [],
   "source": [
    "%%capture\n",
    "# ImageNet Data\n",
    "imagenet_labels = dict(enumerate(open('data/ilsvrc2012_wordnet_lemmas.txt')))\n",
    "\n",
    "# Imagen de muestra\n",
    "img = PIL.Image.open('data/santorini.png')\n",
    "img_tensor = transforms(img).unsqueeze(0).to(device)"
   ]
  },
  {
   "cell_type": "code",
   "execution_count": 10,
   "metadata": {},
   "outputs": [
    {
     "name": "stdout",
     "output_type": "stream",
     "text": [
      "Tensor:  torch.Size([1, 3, 224, 224])\n",
      "Embeddings:  torch.Size([1, 196, 768])\n"
     ]
    }
   ],
   "source": [
    "patches = model.patch_embed(img_tensor)\n",
    "print(\"Tensor: \", img_tensor.shape)\n",
    "print(\"Embeddings: \", patches.shape)"
   ]
  },
  {
   "cell_type": "code",
   "execution_count": null,
   "metadata": {},
   "outputs": [],
   "source": [
    "fig = plt.figure(figsize=(4, 4))\n",
    "fig.suptitle(\"Visualización de fragmentos\")\n",
    "img = np.asarray(img)\n",
    "for i in range(0, 196):\n",
    "    x = i % 14\n",
    "    y = i // 14\n",
    "    patch = img[y*16:(y+1)*16, x*16:(x+1)*16]\n",
    "    ax = fig.add_subplot(14, 14, i+1)\n",
    "    ax.axes.get_xaxis().set_visible(False)\n",
    "    ax.axes.get_yaxis().set_visible(False)\n",
    "    ax.imshow(patch)"
   ]
  },
  {
   "cell_type": "code",
   "execution_count": 15,
   "metadata": {},
   "outputs": [
    {
     "name": "stdout",
     "output_type": "stream",
     "text": [
      "torch.Size([1, 197, 768])\n"
     ]
    }
   ],
   "source": [
    "pos_embed = model.pos_embed\n",
    "print(pos_embed.shape)"
   ]
  },
  {
   "cell_type": "code",
   "execution_count": null,
   "metadata": {},
   "outputs": [],
   "source": [
    "cos = torch.nn.CosineSimilarity(dim=1, eps=1e-6)\n",
    "fig = plt.figure(figsize=(4, 4))\n",
    "fig.suptitle(\"Visualización de las similtudes de position embedding\")\n",
    "for i in range(1, pos_embed.shape[1]):\n",
    "    sim = F.cosine_similarity(pos_embed[0, i:i+1], pos_embed[0, 1:], dim=1)\n",
    "    sim = sim.reshape((14, 14)).detach().cpu().numpy()\n",
    "    ax = fig.add_subplot(14, 14, i)\n",
    "    ax.axes.get_xaxis().set_visible(False)\n",
    "    ax.axes.get_yaxis().set_visible(False)\n",
    "    ax.imshow(sim)"
   ]
  },
  {
   "cell_type": "code",
   "execution_count": 18,
   "metadata": {},
   "outputs": [
    {
     "name": "stdout",
     "output_type": "stream",
     "text": [
      "Transformer input:  torch.Size([1, 197, 768])\n"
     ]
    }
   ],
   "source": [
    "transformer_input = torch.cat((model.cls_token, patches), dim=1) + pos_embed\n",
    "print(\"Transformer input: \", transformer_input.shape)"
   ]
  },
  {
   "cell_type": "code",
   "execution_count": null,
   "metadata": {},
   "outputs": [],
   "source": [
    "print(f\"Tensor de entrada para el Transformer (z0): {transformer_input.shape}\")\n",
    "x = transformer_input.clone()\n",
    "for i, blk in enumerate(model.blocks):\n",
    "    print(\"Encoder {}\".format(i))\n",
    "    x = blk(x)\n",
    "x = model.norm(x)\n",
    "transformer_output = x[:, 0]\n",
    "print(f\"Vector de salida Transformer (z12-0): {transformer_output.shape}\")"
   ]
  },
  {
   "cell_type": "code",
   "execution_count": null,
   "metadata": {},
   "outputs": [],
   "source": [
    "print(\"Bloque de atención (Multi-head) del Transformer:\")\n",
    "attention = model.blocks[0].attn\n",
    "print(attention)\n",
    "print(\"Entrada del transformer:\", transformer_input.shape)"
   ]
  },
  {
   "cell_type": "code",
   "execution_count": 21,
   "metadata": {},
   "outputs": [
    {
     "name": "stdout",
     "output_type": "stream",
     "text": [
      "Expandir a:  torch.Size([197, 2304])\n"
     ]
    }
   ],
   "source": [
    "# Expandir dimensión\n",
    "transformer_input_expanded = attention.qkv(transformer_input)[0]\n",
    "print(\"Expandir a: \", transformer_input_expanded.shape)"
   ]
  },
  {
   "cell_type": "code",
   "execution_count": 22,
   "metadata": {},
   "outputs": [
    {
     "name": "stdout",
     "output_type": "stream",
     "text": [
      "Dividir qkv :  torch.Size([197, 3, 12, 64])\n",
      "Transpuesta ks:  torch.Size([12, 64, 197])\n"
     ]
    }
   ],
   "source": [
    "# Dividir qkv en varios vectores q, k, y v para multi-head attention\n",
    "qkv = transformer_input_expanded.reshape(197, 3, 12, 64)  \n",
    "print(\"Dividir qkv : \", qkv.shape)\n",
    "q = qkv[:, 0].permute(1, 0, 2)\n",
    "k = qkv[:, 1].permute(1, 0, 2)\n",
    "kT = k.permute(0, 2, 1) \n",
    "print(\"Transpuesta ks: \", kT.shape)"
   ]
  },
  {
   "cell_type": "code",
   "execution_count": null,
   "metadata": {},
   "outputs": [],
   "source": [
    "# Matriz de Atención\n",
    "attention_matrix = q @ kT\n",
    "print(\"Attention Matrix: \", attention_matrix.shape)\n",
    "plt.imshow(attention_matrix[3].detach().cpu().numpy())"
   ]
  },
  {
   "cell_type": "code",
   "execution_count": null,
   "metadata": {},
   "outputs": [],
   "source": [
    "fig = plt.figure(figsize=(12, 6))\n",
    "fig.suptitle(\"Visualizar la atención\")\n",
    "img = np.asarray(img)\n",
    "ax = fig.add_subplot(2, 4, 1)\n",
    "ax.imshow(img)\n",
    "for i in range(7):\n",
    "    attn_heatmap = attention_matrix[i, 100, 1:].reshape((14, 14)).detach().cpu().numpy()\n",
    "    ax = fig.add_subplot(2, 4, i+2)\n",
    "    ax.imshow(attn_heatmap)"
   ]
  },
  {
   "cell_type": "code",
   "execution_count": null,
   "metadata": {},
   "outputs": [],
   "source": [
    "result = model.head(transformer_output)\n",
    "result_label_id = int(torch.argmax(result))\n",
    "plt.plot(result.detach().cpu().numpy()[0])\n",
    "plt.title(\"Resultado de Clasificación\")\n",
    "plt.xlabel(\"class id\")"
   ]
  },
  {
   "cell_type": "code",
   "execution_count": 29,
   "metadata": {},
   "outputs": [
    {
     "name": "stdout",
     "output_type": "stream",
     "text": [
      "La imagen es: dome\n",
      "\n"
     ]
    }
   ],
   "source": [
    "print(f\"La imagen es: {imagenet_labels[result_label_id]}\")"
   ]
  }
 ],
 "metadata": {
  "kernelspec": {
   "display_name": "ai",
   "language": "python",
   "name": "python3"
  },
  "language_info": {
   "codemirror_mode": {
    "name": "ipython",
    "version": 3
   },
   "file_extension": ".py",
   "mimetype": "text/x-python",
   "name": "python",
   "nbconvert_exporter": "python",
   "pygments_lexer": "ipython3",
   "version": "3.8.16"
  },
  "orig_nbformat": 4
 },
 "nbformat": 4,
 "nbformat_minor": 2
}
